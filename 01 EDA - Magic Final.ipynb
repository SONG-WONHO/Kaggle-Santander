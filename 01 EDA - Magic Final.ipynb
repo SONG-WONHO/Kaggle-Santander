{
 "cells": [
  {
   "cell_type": "markdown",
   "metadata": {},
   "source": [
    "# Module"
   ]
  },
  {
   "cell_type": "code",
   "execution_count": 1,
   "metadata": {
    "ExecuteTime": {
     "end_time": "2019-04-02T00:06:40.488572Z",
     "start_time": "2019-04-02T00:06:39.020823Z"
    }
   },
   "outputs": [],
   "source": [
    "import numpy as np\n",
    "import pandas as pd\n",
    "import warnings\n",
    "import gc\n",
    "from tqdm import tqdm_notebook as tqdm\n",
    "import lightgbm as lgb\n",
    "from sklearn.preprocessing import LabelEncoder, OneHotEncoder\n",
    "from sklearn.model_selection import StratifiedKFold\n",
    "from sklearn.model_selection import train_test_split\n",
    "import matplotlib.pyplot as plt\n",
    "import seaborn as sns\n",
    "from datetime import datetime\n",
    "from sklearn.metrics import roc_auc_score\n",
    "warnings.filterwarnings(\"ignore\")\n",
    "gc.enable()"
   ]
  },
  {
   "cell_type": "code",
   "execution_count": 2,
   "metadata": {
    "ExecuteTime": {
     "end_time": "2019-04-02T00:06:43.298915Z",
     "start_time": "2019-04-02T00:06:43.293962Z"
    }
   },
   "outputs": [],
   "source": [
    "pd.set_option('max_rows', 500)\n",
    "pd.set_option('max_colwidth', 500)\n",
    "pd.set_option('max_columns', 500)"
   ]
  },
  {
   "cell_type": "markdown",
   "metadata": {},
   "source": [
    "# Load Data"
   ]
  },
  {
   "cell_type": "code",
   "execution_count": 3,
   "metadata": {
    "ExecuteTime": {
     "end_time": "2019-04-02T00:06:59.576558Z",
     "start_time": "2019-04-02T00:06:45.706692Z"
    }
   },
   "outputs": [
    {
     "data": {
      "text/plain": [
       "((200000, 202), (200000, 201))"
      ]
     },
     "execution_count": 3,
     "metadata": {},
     "output_type": "execute_result"
    }
   ],
   "source": [
    "train_raw = pd.read_csv('./data/train.csv')\n",
    "test_raw = pd.read_csv('./data/test.csv')\n",
    "train_raw.shape, test_raw.shape"
   ]
  },
  {
   "cell_type": "code",
   "execution_count": 4,
   "metadata": {
    "ExecuteTime": {
     "end_time": "2019-04-02T00:06:59.863045Z",
     "start_time": "2019-04-02T00:06:59.578554Z"
    }
   },
   "outputs": [],
   "source": [
    "train = train_raw.copy()\n",
    "test = test_raw.copy()"
   ]
  },
  {
   "cell_type": "code",
   "execution_count": 5,
   "metadata": {
    "ExecuteTime": {
     "end_time": "2019-04-02T00:06:59.867781Z",
     "start_time": "2019-04-02T00:06:59.864827Z"
    }
   },
   "outputs": [],
   "source": [
    "col_list = train.columns[2:]"
   ]
  },
  {
   "cell_type": "code",
   "execution_count": 6,
   "metadata": {
    "ExecuteTime": {
     "end_time": "2019-04-02T00:07:00.048610Z",
     "start_time": "2019-04-02T00:06:59.869774Z"
    }
   },
   "outputs": [],
   "source": [
    "train_0 = train[train.target == 0]\n",
    "train_1 = train[train.target == 1]"
   ]
  },
  {
   "cell_type": "code",
   "execution_count": 7,
   "metadata": {
    "ExecuteTime": {
     "end_time": "2019-04-02T00:07:00.057622Z",
     "start_time": "2019-04-02T00:07:00.050608Z"
    }
   },
   "outputs": [],
   "source": [
    "pb_idx = np.load('./data_temp/public_LB.npy')\n",
    "pv_idx = np.load('./data_temp/private_LB.npy')"
   ]
  },
  {
   "cell_type": "code",
   "execution_count": 8,
   "metadata": {
    "ExecuteTime": {
     "end_time": "2019-04-02T00:07:00.452832Z",
     "start_time": "2019-04-02T00:07:00.058587Z"
    }
   },
   "outputs": [],
   "source": [
    "test_pb = test.iloc[pb_idx].sort_index().copy()\n",
    "test_pv = test.iloc[pv_idx].sort_index().copy()\n",
    "\n",
    "test_real = test_pb.append(test_pv)"
   ]
  },
  {
   "cell_type": "code",
   "execution_count": 9,
   "metadata": {
    "ExecuteTime": {
     "end_time": "2019-04-02T00:07:00.937248Z",
     "start_time": "2019-04-02T00:07:00.454530Z"
    }
   },
   "outputs": [],
   "source": [
    "data = train.append(test_real)"
   ]
  },
  {
   "cell_type": "markdown",
   "metadata": {},
   "source": [
    "# Extract Unique Value in All Data"
   ]
  },
  {
   "cell_type": "code",
   "execution_count": 10,
   "metadata": {
    "ExecuteTime": {
     "end_time": "2019-04-02T00:07:03.388506Z",
     "start_time": "2019-04-02T00:07:02.859861Z"
    }
   },
   "outputs": [],
   "source": [
    "unique_df = data[['ID_code']]\n",
    "con_df = data[['ID_code']]"
   ]
  },
  {
   "cell_type": "code",
   "execution_count": 11,
   "metadata": {
    "ExecuteTime": {
     "end_time": "2019-04-02T00:08:19.752743Z",
     "start_time": "2019-04-02T00:07:09.823182Z"
    }
   },
   "outputs": [
    {
     "data": {
      "application/vnd.jupyter.widget-view+json": {
       "model_id": "e7c8e1a86c3444bdbdc327af1db8e821",
       "version_major": 2,
       "version_minor": 0
      },
      "text/plain": [
       "HBox(children=(IntProgress(value=0, max=200), HTML(value='')))"
      ]
     },
     "metadata": {},
     "output_type": "display_data"
    },
    {
     "name": "stdout",
     "output_type": "stream",
     "text": [
      "\n"
     ]
    }
   ],
   "source": [
    "for col in tqdm(col_list):\n",
    "    unique_df[col] = data[col].map(((data[col].value_counts() == 1) * 1).to_dict())\n",
    "    con_df[col] = data[col].map((~(data[col].value_counts() == 1) * 1).to_dict())"
   ]
  },
  {
   "cell_type": "code",
   "execution_count": 12,
   "metadata": {
    "ExecuteTime": {
     "end_time": "2019-04-02T00:08:38.398160Z",
     "start_time": "2019-04-02T00:08:30.530041Z"
    }
   },
   "outputs": [
    {
     "data": {
      "application/vnd.jupyter.widget-view+json": {
       "model_id": "d3a87691963c44f4993f0c568e55e20f",
       "version_major": 2,
       "version_minor": 0
      },
      "text/plain": [
       "HBox(children=(IntProgress(value=0, max=200), HTML(value='')))"
      ]
     },
     "metadata": {},
     "output_type": "display_data"
    },
    {
     "name": "stdout",
     "output_type": "stream",
     "text": [
      "\n"
     ]
    }
   ],
   "source": [
    "for col in tqdm(col_list):\n",
    "    data[col + '_unique'] = np.around(data[col] * unique_df[col], 4)\n",
    "    data[col + '_con'] = np.around(data[col] * con_df[col], 4)"
   ]
  },
  {
   "cell_type": "code",
   "execution_count": 13,
   "metadata": {
    "ExecuteTime": {
     "end_time": "2019-04-02T00:08:44.405733Z",
     "start_time": "2019-04-02T00:08:42.421004Z"
    }
   },
   "outputs": [],
   "source": [
    "train = data[~data.target.isna()]\n",
    "test = data[data.target.isna()]"
   ]
  },
  {
   "cell_type": "code",
   "execution_count": 14,
   "metadata": {
    "ExecuteTime": {
     "end_time": "2019-04-02T00:08:44.411681Z",
     "start_time": "2019-04-02T00:08:44.407715Z"
    }
   },
   "outputs": [],
   "source": [
    "target = train['target']"
   ]
  },
  {
   "cell_type": "code",
   "execution_count": 15,
   "metadata": {
    "ExecuteTime": {
     "end_time": "2019-04-02T00:08:45.177746Z",
     "start_time": "2019-04-02T00:08:45.172734Z"
    }
   },
   "outputs": [],
   "source": [
    "param = {\n",
    "    'bagging_freq': 5,\n",
    "    'bagging_fraction': 0.335,\n",
    "    'boost_from_average': False,\n",
    "    'boost': 'gbdt',\n",
    "    'feature_fraction_seed': 47,\n",
    "    'feature_fraction': 0.041,\n",
    "    'learning_rate': 0.01,\n",
    "    'max_depth': -1,\n",
    "    'metric':'auc',\n",
    "    'min_data_in_leaf': 80,\n",
    "    'min_sum_hessian_in_leaf': 10.0,\n",
    "    'num_leaves': 13,\n",
    "    'num_threads': 8,\n",
    "    'tree_learner': 'serial',\n",
    "    'objective': 'binary', \n",
    "    'verbosity': -1,\n",
    "    'num_threads': 8\n",
    "}"
   ]
  },
  {
   "cell_type": "code",
   "execution_count": 16,
   "metadata": {
    "ExecuteTime": {
     "end_time": "2019-04-02T00:25:12.019440Z",
     "start_time": "2019-04-02T00:08:45.691990Z"
    },
    "scrolled": false
   },
   "outputs": [
    {
     "name": "stdout",
     "output_type": "stream",
     "text": [
      "fold n°0\n",
      "Training until validation scores don't improve for 200 rounds.\n",
      "[400]\ttraining's auc: 0.896151\tvalid_1's auc: 0.882588\n",
      "[800]\ttraining's auc: 0.908063\tvalid_1's auc: 0.89331\n",
      "[1200]\ttraining's auc: 0.91579\tvalid_1's auc: 0.899737\n",
      "[1600]\ttraining's auc: 0.921465\tvalid_1's auc: 0.903533\n",
      "[2000]\ttraining's auc: 0.926619\tvalid_1's auc: 0.907027\n",
      "[2400]\ttraining's auc: 0.930723\tvalid_1's auc: 0.909608\n",
      "[2800]\ttraining's auc: 0.934314\tvalid_1's auc: 0.911416\n",
      "[3200]\ttraining's auc: 0.937326\tvalid_1's auc: 0.912916\n",
      "[3600]\ttraining's auc: 0.939967\tvalid_1's auc: 0.914021\n",
      "[4000]\ttraining's auc: 0.942283\tvalid_1's auc: 0.915044\n",
      "[4400]\ttraining's auc: 0.944488\tvalid_1's auc: 0.915898\n",
      "[4800]\ttraining's auc: 0.946486\tvalid_1's auc: 0.916558\n",
      "[5200]\ttraining's auc: 0.948352\tvalid_1's auc: 0.916926\n",
      "[5600]\ttraining's auc: 0.95016\tvalid_1's auc: 0.917256\n",
      "[6000]\ttraining's auc: 0.95188\tvalid_1's auc: 0.91753\n",
      "[6400]\ttraining's auc: 0.953501\tvalid_1's auc: 0.917727\n",
      "[6800]\ttraining's auc: 0.955111\tvalid_1's auc: 0.917982\n",
      "[7200]\ttraining's auc: 0.956595\tvalid_1's auc: 0.918088\n",
      "[7600]\ttraining's auc: 0.958074\tvalid_1's auc: 0.918228\n",
      "Early stopping, best iteration is:\n",
      "[7575]\ttraining's auc: 0.957979\tvalid_1's auc: 0.918248\n",
      "CV score: 0.91825 \n",
      "fold n°1\n",
      "Training until validation scores don't improve for 200 rounds.\n",
      "[400]\ttraining's auc: 0.896208\tvalid_1's auc: 0.886837\n",
      "[800]\ttraining's auc: 0.907834\tvalid_1's auc: 0.896097\n",
      "[1200]\ttraining's auc: 0.91542\tvalid_1's auc: 0.901315\n",
      "[1600]\ttraining's auc: 0.921287\tvalid_1's auc: 0.905367\n",
      "[2000]\ttraining's auc: 0.926429\tvalid_1's auc: 0.90876\n",
      "[2400]\ttraining's auc: 0.930471\tvalid_1's auc: 0.91097\n",
      "[2800]\ttraining's auc: 0.93409\tvalid_1's auc: 0.912784\n",
      "[3200]\ttraining's auc: 0.937136\tvalid_1's auc: 0.914095\n",
      "[3600]\ttraining's auc: 0.939749\tvalid_1's auc: 0.915043\n",
      "[4000]\ttraining's auc: 0.942059\tvalid_1's auc: 0.915787\n",
      "[4400]\ttraining's auc: 0.94428\tvalid_1's auc: 0.916447\n",
      "[4800]\ttraining's auc: 0.946337\tvalid_1's auc: 0.916932\n",
      "[5200]\ttraining's auc: 0.948211\tvalid_1's auc: 0.917254\n",
      "[5600]\ttraining's auc: 0.950056\tvalid_1's auc: 0.917435\n",
      "[6000]\ttraining's auc: 0.951817\tvalid_1's auc: 0.917723\n",
      "[6400]\ttraining's auc: 0.95342\tvalid_1's auc: 0.918019\n",
      "[6800]\ttraining's auc: 0.955031\tvalid_1's auc: 0.91807\n",
      "Early stopping, best iteration is:\n",
      "[6993]\ttraining's auc: 0.955756\tvalid_1's auc: 0.918149\n",
      "CV score: 0.91815 \n",
      "fold n°2\n",
      "Training until validation scores don't improve for 200 rounds.\n",
      "[400]\ttraining's auc: 0.894828\tvalid_1's auc: 0.887098\n",
      "[800]\ttraining's auc: 0.906645\tvalid_1's auc: 0.898042\n",
      "[1200]\ttraining's auc: 0.914415\tvalid_1's auc: 0.904493\n",
      "[1600]\ttraining's auc: 0.920118\tvalid_1's auc: 0.908577\n",
      "[2000]\ttraining's auc: 0.925129\tvalid_1's auc: 0.912364\n",
      "[2400]\ttraining's auc: 0.929253\tvalid_1's auc: 0.915325\n",
      "[2800]\ttraining's auc: 0.932838\tvalid_1's auc: 0.917666\n",
      "[3200]\ttraining's auc: 0.935858\tvalid_1's auc: 0.91941\n",
      "[3600]\ttraining's auc: 0.938484\tvalid_1's auc: 0.920442\n",
      "[4000]\ttraining's auc: 0.940859\tvalid_1's auc: 0.92134\n",
      "[4400]\ttraining's auc: 0.943088\tvalid_1's auc: 0.922095\n",
      "[4800]\ttraining's auc: 0.945143\tvalid_1's auc: 0.922595\n",
      "[5200]\ttraining's auc: 0.947074\tvalid_1's auc: 0.923155\n",
      "[5600]\ttraining's auc: 0.948857\tvalid_1's auc: 0.923507\n",
      "[6000]\ttraining's auc: 0.950663\tvalid_1's auc: 0.923899\n",
      "[6400]\ttraining's auc: 0.952297\tvalid_1's auc: 0.924232\n",
      "[6800]\ttraining's auc: 0.953881\tvalid_1's auc: 0.924454\n",
      "[7200]\ttraining's auc: 0.955444\tvalid_1's auc: 0.924551\n",
      "[7600]\ttraining's auc: 0.956929\tvalid_1's auc: 0.924677\n",
      "[8000]\ttraining's auc: 0.958346\tvalid_1's auc: 0.924694\n",
      "Early stopping, best iteration is:\n",
      "[7816]\ttraining's auc: 0.957705\tvalid_1's auc: 0.92472\n",
      "CV score: 0.92472 \n",
      "fold n°3\n",
      "Training until validation scores don't improve for 200 rounds.\n",
      "[400]\ttraining's auc: 0.895674\tvalid_1's auc: 0.880516\n",
      "[800]\ttraining's auc: 0.907751\tvalid_1's auc: 0.891712\n",
      "[1200]\ttraining's auc: 0.915755\tvalid_1's auc: 0.897735\n",
      "[1600]\ttraining's auc: 0.921622\tvalid_1's auc: 0.902306\n",
      "[2000]\ttraining's auc: 0.926713\tvalid_1's auc: 0.905898\n",
      "[2400]\ttraining's auc: 0.930683\tvalid_1's auc: 0.908425\n",
      "[2800]\ttraining's auc: 0.934241\tvalid_1's auc: 0.91065\n",
      "[3200]\ttraining's auc: 0.937213\tvalid_1's auc: 0.91214\n",
      "[3600]\ttraining's auc: 0.939819\tvalid_1's auc: 0.913565\n",
      "[4000]\ttraining's auc: 0.942169\tvalid_1's auc: 0.914679\n",
      "[4400]\ttraining's auc: 0.944228\tvalid_1's auc: 0.915571\n",
      "[4800]\ttraining's auc: 0.946182\tvalid_1's auc: 0.916133\n",
      "[5200]\ttraining's auc: 0.948053\tvalid_1's auc: 0.916584\n",
      "[5600]\ttraining's auc: 0.949834\tvalid_1's auc: 0.917001\n",
      "[6000]\ttraining's auc: 0.951546\tvalid_1's auc: 0.917249\n",
      "[6400]\ttraining's auc: 0.953252\tvalid_1's auc: 0.91757\n",
      "[6800]\ttraining's auc: 0.954797\tvalid_1's auc: 0.917726\n",
      "[7200]\ttraining's auc: 0.956294\tvalid_1's auc: 0.917939\n",
      "[7600]\ttraining's auc: 0.957746\tvalid_1's auc: 0.91811\n",
      "[8000]\ttraining's auc: 0.959151\tvalid_1's auc: 0.918187\n",
      "[8400]\ttraining's auc: 0.96054\tvalid_1's auc: 0.918317\n",
      "Early stopping, best iteration is:\n",
      "[8399]\ttraining's auc: 0.960537\tvalid_1's auc: 0.918319\n",
      "CV score: 0.91832 \n",
      "fold n°4\n",
      "Training until validation scores don't improve for 200 rounds.\n",
      "[400]\ttraining's auc: 0.89685\tvalid_1's auc: 0.878532\n",
      "[800]\ttraining's auc: 0.908876\tvalid_1's auc: 0.889312\n",
      "[1200]\ttraining's auc: 0.916545\tvalid_1's auc: 0.895715\n",
      "[1600]\ttraining's auc: 0.922203\tvalid_1's auc: 0.900119\n",
      "[2000]\ttraining's auc: 0.927249\tvalid_1's auc: 0.903817\n",
      "[2400]\ttraining's auc: 0.93143\tvalid_1's auc: 0.906349\n",
      "[2800]\ttraining's auc: 0.934934\tvalid_1's auc: 0.908682\n",
      "[3200]\ttraining's auc: 0.937708\tvalid_1's auc: 0.910169\n",
      "[3600]\ttraining's auc: 0.940272\tvalid_1's auc: 0.911434\n",
      "[4000]\ttraining's auc: 0.942672\tvalid_1's auc: 0.91228\n",
      "[4400]\ttraining's auc: 0.944889\tvalid_1's auc: 0.913104\n",
      "[4800]\ttraining's auc: 0.946859\tvalid_1's auc: 0.913776\n",
      "[5200]\ttraining's auc: 0.948729\tvalid_1's auc: 0.914228\n",
      "[5600]\ttraining's auc: 0.950498\tvalid_1's auc: 0.914569\n",
      "[6000]\ttraining's auc: 0.95219\tvalid_1's auc: 0.914878\n",
      "[6400]\ttraining's auc: 0.953802\tvalid_1's auc: 0.915106\n",
      "[6800]\ttraining's auc: 0.955314\tvalid_1's auc: 0.915208\n",
      "Early stopping, best iteration is:\n",
      "[6765]\ttraining's auc: 0.955178\tvalid_1's auc: 0.915229\n",
      "CV score: 0.91523 \n",
      "CV score: 0.91893 \n"
     ]
    }
   ],
   "source": [
    "folds = StratifiedKFold(n_splits=5, shuffle=True, random_state=42)\n",
    "\n",
    "oof_lgb = np.zeros(len(train))\n",
    "predictions_lgb = np.zeros(len(test))\n",
    "feature_importance = pd.DataFrame()\n",
    "\n",
    "train_columns = [c for c in train.columns if c not in ['ID_code', 'target']]\n",
    "\n",
    "for fold_, (trn_idx, val_idx) in enumerate(folds.split(train, target.values)):    \n",
    "    print(\"fold n°{}\".format(fold_))\n",
    "    trn_data = lgb.Dataset(train.iloc[trn_idx][train_columns], label=target.iloc[trn_idx])\n",
    "    val_data = lgb.Dataset(train.iloc[val_idx][train_columns], label=target.iloc[val_idx])\n",
    "\n",
    "    num_round = 30000\n",
    "    clf = lgb.train(param, trn_data, num_round, valid_sets = [trn_data, val_data], verbose_eval=400, early_stopping_rounds = 200)\n",
    "    oof_lgb[val_idx] = clf.predict(train.iloc[val_idx][train_columns], num_iteration=clf.best_iteration)\n",
    "    predictions_lgb += clf.predict(test[train_columns], num_iteration=clf.best_iteration) / folds.n_splits\n",
    "\n",
    "    fold_importance = pd.DataFrame()\n",
    "    fold_importance[\"Feature\"] = train_columns\n",
    "    fold_importance[\"importance\"] = clf.feature_importance()\n",
    "    fold_importance[\"fold\"] = fold_ + 1\n",
    "    feature_importance = pd.concat([feature_importance, fold_importance], axis=0)\n",
    "    \n",
    "    print(\"CV score: {:<8.5f}\".format(roc_auc_score(target.values[val_idx], oof_lgb[val_idx])))\n",
    "        \n",
    "print(\"CV score: {:<8.5f}\".format(roc_auc_score(target.values, oof_lgb)))"
   ]
  },
  {
   "cell_type": "code",
   "execution_count": 35,
   "metadata": {
    "ExecuteTime": {
     "end_time": "2019-04-02T00:36:10.279549Z",
     "start_time": "2019-04-02T00:36:10.228473Z"
    }
   },
   "outputs": [],
   "source": [
    "bbiggu = train[['ID_code', 'target']]\n",
    "bbiggu['pred'] = oof_lgb"
   ]
  },
  {
   "cell_type": "code",
   "execution_count": 36,
   "metadata": {
    "ExecuteTime": {
     "end_time": "2019-04-02T00:36:12.217427Z",
     "start_time": "2019-04-02T00:36:12.061522Z"
    }
   },
   "outputs": [],
   "source": [
    "temp = pd.read_csv('./data_temp/new_bbiggu.csv')\n",
    "temp['target'] = train.target"
   ]
  },
  {
   "cell_type": "code",
   "execution_count": 37,
   "metadata": {
    "ExecuteTime": {
     "end_time": "2019-04-02T00:36:12.356769Z",
     "start_time": "2019-04-02T00:36:12.223129Z"
    }
   },
   "outputs": [
    {
     "data": {
      "text/plain": [
       "(0.7751441984398802, 0.7707841507048583)"
      ]
     },
     "execution_count": 37,
     "metadata": {},
     "output_type": "execute_result"
    }
   ],
   "source": [
    "roc_auc_score(bbiggu[(bbiggu.pred < 0.1)].target, bbiggu[(bbiggu.pred < 0.1)].pred), roc_auc_score(temp[temp.pred<0.1].target, temp[temp.pred<0.1].pred)"
   ]
  },
  {
   "cell_type": "code",
   "execution_count": 23,
   "metadata": {
    "ExecuteTime": {
     "end_time": "2019-04-02T00:30:10.205321Z",
     "start_time": "2019-04-02T00:30:10.156454Z"
    }
   },
   "outputs": [
    {
     "data": {
      "text/plain": [
       "(0.8167443836875399, 0.8045344524437575)"
      ]
     },
     "execution_count": 23,
     "metadata": {},
     "output_type": "execute_result"
    }
   ],
   "source": [
    "roc_auc_score(bbiggu[(bbiggu.pred >= 0.1)].target, bbiggu[(bbiggu.pred >= 0.1)].pred), roc_auc_score(temp[temp.pred>=0.1].target, temp[temp.pred>=0.1].pred)"
   ]
  },
  {
   "cell_type": "code",
   "execution_count": 24,
   "metadata": {
    "ExecuteTime": {
     "end_time": "2019-04-02T00:30:28.486629Z",
     "start_time": "2019-04-02T00:30:28.475656Z"
    }
   },
   "outputs": [
    {
     "data": {
      "text/plain": [
       "(3146, 3495)"
      ]
     },
     "execution_count": 24,
     "metadata": {},
     "output_type": "execute_result"
    }
   ],
   "source": [
    "bbiggu[(bbiggu.pred < 0.1) & (bbiggu.target == 1)].shape[0], temp[(temp.pred < 0.1) & (temp.target == 1)].shape[0]"
   ]
  },
  {
   "cell_type": "code",
   "execution_count": 25,
   "metadata": {
    "ExecuteTime": {
     "end_time": "2019-04-02T00:30:46.962757Z",
     "start_time": "2019-04-02T00:30:46.948794Z"
    }
   },
   "outputs": [
    {
     "data": {
      "text/plain": [
       "(29914, 29518)"
      ]
     },
     "execution_count": 25,
     "metadata": {},
     "output_type": "execute_result"
    }
   ],
   "source": [
    "bbiggu[(bbiggu.pred > 0.1) & (bbiggu.target == 0)].shape[0], temp[(temp.pred > 0.1) & (temp.target == 0)].shape[0]"
   ]
  },
  {
   "cell_type": "code",
   "execution_count": 31,
   "metadata": {
    "ExecuteTime": {
     "end_time": "2019-04-02T00:33:37.026774Z",
     "start_time": "2019-04-02T00:33:36.948945Z"
    }
   },
   "outputs": [],
   "source": [
    "bbiggu.loc[bbiggu.ID_code.isin(bbiggu[(bbiggu.pred < 0.1) & (bbiggu.target == 1)].ID_code), 'pred'] = 1"
   ]
  },
  {
   "cell_type": "code",
   "execution_count": 32,
   "metadata": {
    "ExecuteTime": {
     "end_time": "2019-04-02T00:33:57.173111Z",
     "start_time": "2019-04-02T00:33:57.092110Z"
    }
   },
   "outputs": [],
   "source": [
    "bbiggu.loc[bbiggu.ID_code.isin(bbiggu[(bbiggu.pred >= 0.1) & (bbiggu.target == 0)].ID_code), 'pred'] = 0"
   ]
  },
  {
   "cell_type": "code",
   "execution_count": 34,
   "metadata": {
    "ExecuteTime": {
     "end_time": "2019-04-02T00:34:25.922474Z",
     "start_time": "2019-04-02T00:34:25.852630Z"
    }
   },
   "outputs": [
    {
     "data": {
      "text/plain": [
       "1.0"
      ]
     },
     "execution_count": 34,
     "metadata": {},
     "output_type": "execute_result"
    }
   ],
   "source": [
    "roc_auc_score(bbiggu.target, bbiggu.pred)"
   ]
  },
  {
   "cell_type": "code",
   "execution_count": 38,
   "metadata": {
    "ExecuteTime": {
     "end_time": "2019-04-02T00:36:28.448709Z",
     "start_time": "2019-04-02T00:36:27.784204Z"
    }
   },
   "outputs": [],
   "source": [
    "bbiggu.to_csv('./data_temp/final_bbiggu.csv', index=False)"
   ]
  },
  {
   "cell_type": "markdown",
   "metadata": {},
   "source": [
    "# sub"
   ]
  },
  {
   "cell_type": "code",
   "execution_count": 36,
   "metadata": {
    "ExecuteTime": {
     "end_time": "2019-04-01T15:25:25.103981Z",
     "start_time": "2019-04-01T15:25:24.861495Z"
    }
   },
   "outputs": [],
   "source": [
    "test['target'] = predictions_lgb\n",
    "sub = pd.read_csv('./data/sample_submission.csv')\n",
    "unchange = sub[~sub.ID_code.isin(test.ID_code)]\n",
    "sub = test[['ID_code', 'target']].append(unchange).sort_index()"
   ]
  },
  {
   "cell_type": "code",
   "execution_count": 37,
   "metadata": {
    "ExecuteTime": {
     "end_time": "2019-04-01T15:25:32.782420Z",
     "start_time": "2019-04-01T15:25:32.336058Z"
    }
   },
   "outputs": [],
   "source": [
    "sub.to_csv('./data/sub_feature_unique_con_val.csv', index=False)"
   ]
  }
 ],
 "metadata": {
  "kernelspec": {
   "display_name": "Python 3",
   "language": "python",
   "name": "python3"
  },
  "language_info": {
   "codemirror_mode": {
    "name": "ipython",
    "version": 3
   },
   "file_extension": ".py",
   "mimetype": "text/x-python",
   "name": "python",
   "nbconvert_exporter": "python",
   "pygments_lexer": "ipython3",
   "version": "3.6.7"
  },
  "toc": {
   "base_numbering": 1,
   "nav_menu": {},
   "number_sections": true,
   "sideBar": true,
   "skip_h1_title": false,
   "title_cell": "Table of Contents",
   "title_sidebar": "Contents",
   "toc_cell": false,
   "toc_position": {},
   "toc_section_display": true,
   "toc_window_display": true
  }
 },
 "nbformat": 4,
 "nbformat_minor": 2
}
