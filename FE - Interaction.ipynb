{
 "cells": [
  {
   "cell_type": "code",
   "execution_count": 1,
   "metadata": {
    "ExecuteTime": {
     "end_time": "2019-02-24T08:42:13.375541Z",
     "start_time": "2019-02-24T08:42:10.268856Z"
    }
   },
   "outputs": [],
   "source": [
    "%matplotlib inline\n",
    "import pandas as pd\n",
    "import numpy as np\n",
    "import matplotlib.pyplot as plt\n",
    "import seaborn as sns; sns.set()"
   ]
  },
  {
   "cell_type": "code",
   "execution_count": 2,
   "metadata": {
    "ExecuteTime": {
     "end_time": "2019-02-24T08:42:15.190992Z",
     "start_time": "2019-02-24T08:42:14.806915Z"
    }
   },
   "outputs": [],
   "source": [
    "import lightgbm as lgb\n",
    "from sklearn.model_selection import KFold, StratifiedKFold\n",
    "from sklearn.metrics import roc_auc_score, roc_curve"
   ]
  },
  {
   "cell_type": "code",
   "execution_count": 3,
   "metadata": {
    "ExecuteTime": {
     "end_time": "2019-02-24T08:42:50.505411Z",
     "start_time": "2019-02-24T08:42:19.218494Z"
    }
   },
   "outputs": [],
   "source": [
    "train = pd.read_csv('./data/train.csv')\n",
    "test = pd.read_csv('./data/test.csv')"
   ]
  },
  {
   "cell_type": "code",
   "execution_count": 6,
   "metadata": {
    "ExecuteTime": {
     "end_time": "2019-02-24T08:43:17.404213Z",
     "start_time": "2019-02-24T08:43:17.095431Z"
    }
   },
   "outputs": [],
   "source": [
    "x = train.iloc[:, 2:]"
   ]
  },
  {
   "cell_type": "code",
   "execution_count": 8,
   "metadata": {
    "ExecuteTime": {
     "end_time": "2019-02-24T08:44:00.856656Z",
     "start_time": "2019-02-24T08:43:57.577739Z"
    }
   },
   "outputs": [],
   "source": [
    "for col in x.columns:\n",
    "    x[col + '_square'] = x[col] ** 2"
   ]
  },
  {
   "cell_type": "code",
   "execution_count": 12,
   "metadata": {
    "ExecuteTime": {
     "end_time": "2019-02-24T08:44:51.241580Z",
     "start_time": "2019-02-24T08:44:51.232752Z"
    }
   },
   "outputs": [],
   "source": [
    "target = train.target"
   ]
  },
  {
   "cell_type": "code",
   "execution_count": 15,
   "metadata": {
    "ExecuteTime": {
     "end_time": "2019-02-24T08:45:02.736320Z",
     "start_time": "2019-02-24T08:45:02.732233Z"
    }
   },
   "outputs": [],
   "source": [
    "train = x"
   ]
  },
  {
   "cell_type": "code",
   "execution_count": 16,
   "metadata": {
    "ExecuteTime": {
     "end_time": "2019-02-24T08:45:03.579931Z",
     "start_time": "2019-02-24T08:45:03.563296Z"
    }
   },
   "outputs": [],
   "source": [
    "# https://www.kaggle.com/fayzur/customer-transaction-prediction-strong-baseline\n",
    "# Thanks fayzur. Nice Parameter \n",
    "param = {\n",
    "        'num_leaves': 10,\n",
    "        'max_bin': 119,\n",
    "        'min_data_in_leaf': 11,\n",
    "        'learning_rate': 0.02,\n",
    "        'min_sum_hessian_in_leaf': 0.00245,\n",
    "        'bagging_fraction': 1.0, \n",
    "        'bagging_freq': 5, \n",
    "        'feature_fraction': 0.05,\n",
    "        'lambda_l1': 4.972,\n",
    "        'lambda_l2': 2.276,\n",
    "        'min_gain_to_split': 0.65,\n",
    "        'max_depth': -1,\n",
    "        'save_binary': True,\n",
    "        'seed': 1337,\n",
    "        'feature_fraction_seed': 1337,\n",
    "        'bagging_seed': 1337,\n",
    "        'drop_seed': 1337,\n",
    "        'data_random_seed': 1337,\n",
    "        'objective': 'binary',\n",
    "        'boosting_type': 'gbdt',\n",
    "        'verbose': 1,\n",
    "        'metric': 'auc',\n",
    "        'is_unbalance': True,\n",
    "        'boost_from_average': False,\n",
    "    }"
   ]
  },
  {
   "cell_type": "code",
   "execution_count": 32,
   "metadata": {
    "ExecuteTime": {
     "end_time": "2019-02-24T09:23:34.588421Z",
     "start_time": "2019-02-24T09:07:53.057176Z"
    }
   },
   "outputs": [
    {
     "name": "stdout",
     "output_type": "stream",
     "text": [
      "fold n°0\n",
      "Training until validation scores don't improve for 200 rounds.\n",
      "[3000]\ttraining's auc: 0.934772\tvalid_1's auc: 0.895867\n",
      "Early stopping, best iteration is:\n",
      "[4197]\ttraining's auc: 0.944433\tvalid_1's auc: 0.897471\n",
      "CV score: 0.89747 \n",
      "fold n°1\n",
      "Training until validation scores don't improve for 200 rounds.\n",
      "[3000]\ttraining's auc: 0.934515\tvalid_1's auc: 0.896634\n",
      "Early stopping, best iteration is:\n",
      "[5352]\ttraining's auc: 0.952389\tvalid_1's auc: 0.898661\n",
      "CV score: 0.89866 \n",
      "fold n°2\n",
      "Training until validation scores don't improve for 200 rounds.\n",
      "[3000]\ttraining's auc: 0.933475\tvalid_1's auc: 0.901804\n",
      "Early stopping, best iteration is:\n",
      "[5554]\ttraining's auc: 0.953028\tvalid_1's auc: 0.90409\n",
      "CV score: 0.90409 \n",
      "fold n°3\n",
      "Training until validation scores don't improve for 200 rounds.\n",
      "[3000]\ttraining's auc: 0.934881\tvalid_1's auc: 0.894093\n",
      "Early stopping, best iteration is:\n",
      "[4850]\ttraining's auc: 0.94922\tvalid_1's auc: 0.896207\n",
      "CV score: 0.89621 \n",
      "fold n°4\n",
      "Training until validation scores don't improve for 200 rounds.\n",
      "[3000]\ttraining's auc: 0.935006\tvalid_1's auc: 0.893088\n",
      "Early stopping, best iteration is:\n",
      "[4434]\ttraining's auc: 0.946426\tvalid_1's auc: 0.894694\n",
      "CV score: 0.89469 \n",
      "CV score: 0.89822 \n"
     ]
    }
   ],
   "source": [
    "folds = StratifiedKFold(n_splits=5, shuffle=True, random_state=42)\n",
    "\n",
    "oof_lgb = np.zeros(len(train))\n",
    "predictions_lgb = np.zeros(len(test))\n",
    "feature_importance = pd.DataFrame()\n",
    "\n",
    "train_columns = [c for c in train.columns if c not in ['ID_code', 'target']]\n",
    "train_coumns = new_feature\n",
    "\n",
    "for fold_, (trn_idx, val_idx) in enumerate(folds.split(train, target.values)):    \n",
    "    print(\"fold n°{}\".format(fold_))\n",
    "    trn_data = lgb.Dataset(train.iloc[trn_idx][train_columns], label=target.iloc[trn_idx])\n",
    "    val_data = lgb.Dataset(train.iloc[val_idx][train_columns], label=target.iloc[val_idx])\n",
    "\n",
    "    num_round = 60000\n",
    "    clf = lgb.train(param, trn_data, num_round, valid_sets = [trn_data, val_data], verbose_eval=3000, early_stopping_rounds = 200)\n",
    "    oof_lgb[val_idx] = clf.predict(train.iloc[val_idx][train_columns], num_iteration=clf.best_iteration)\n",
    "    \n",
    "#     predictions_lgb += clf.predict(test[train_columns], num_iteration=clf.best_iteration) / folds.n_splits\n",
    "    \n",
    "    fold_importance = pd.DataFrame()\n",
    "    fold_importance[\"Feature\"] = train_columns\n",
    "    fold_importance[\"importance\"] = clf.feature_importance()\n",
    "    fold_importance[\"fold\"] = fold_ + 1\n",
    "    feature_importance = pd.concat([feature_importance, fold_importance], axis=0)\n",
    "    \n",
    "    print(\"CV score: {:<8.5f}\".format(roc_auc_score(target.values[val_idx], oof_lgb[val_idx])))\n",
    "    \n",
    "print(\"CV score: {:<8.5f}\".format(roc_auc_score(target.values, oof_lgb)))"
   ]
  },
  {
   "cell_type": "code",
   "execution_count": 23,
   "metadata": {
    "ExecuteTime": {
     "end_time": "2019-02-24T09:06:28.894693Z",
     "start_time": "2019-02-24T09:06:28.878022Z"
    }
   },
   "outputs": [
    {
     "data": {
      "text/plain": [
       "Feature       var_9_square\n",
       "importance             327\n",
       "fold                     5\n",
       "dtype: object"
      ]
     },
     "execution_count": 23,
     "metadata": {},
     "output_type": "execute_result"
    }
   ],
   "source": [
    "feature_importance.max()"
   ]
  },
  {
   "cell_type": "code",
   "execution_count": 31,
   "metadata": {
    "ExecuteTime": {
     "end_time": "2019-02-24T09:07:41.745797Z",
     "start_time": "2019-02-24T09:07:41.737014Z"
    }
   },
   "outputs": [],
   "source": [
    "new_feature = feature_importance.groupby('Feature').importance.mean().sort_values(ascending = False)[:200].index"
   ]
  },
  {
   "cell_type": "code",
   "execution_count": null,
   "metadata": {},
   "outputs": [],
   "source": []
  }
 ],
 "metadata": {
  "kernelspec": {
   "display_name": "Python 3",
   "language": "python",
   "name": "python3"
  },
  "language_info": {
   "codemirror_mode": {
    "name": "ipython",
    "version": 3
   },
   "file_extension": ".py",
   "mimetype": "text/x-python",
   "name": "python",
   "nbconvert_exporter": "python",
   "pygments_lexer": "ipython3",
   "version": "3.6.7"
  },
  "toc": {
   "base_numbering": 1,
   "nav_menu": {},
   "number_sections": true,
   "sideBar": true,
   "skip_h1_title": false,
   "title_cell": "Table of Contents",
   "title_sidebar": "Contents",
   "toc_cell": false,
   "toc_position": {},
   "toc_section_display": true,
   "toc_window_display": false
  }
 },
 "nbformat": 4,
 "nbformat_minor": 2
}
