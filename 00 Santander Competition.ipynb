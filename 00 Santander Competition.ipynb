{
 "cells": [
  {
   "cell_type": "markdown",
   "metadata": {},
   "source": [
    "# Santander Customer Transaction Prediction\n",
    "* Can you identify who will make a transaction?"
   ]
  },
  {
   "cell_type": "markdown",
   "metadata": {},
   "source": [
    "## Description\n",
    "\n",
    "산탄데르에서 우리의 목표는 기업과 사람이 번창하는 것 입니다. 우리는 고객이 재무 사앹를 이해하고 어떤 제품과 서비스가 금전적인 목표를 달성하는데 도움이 될 수 있을 지 파악하는 방법을 찾고 있다.\n",
    "\n",
    "우리의 데이터 사이언스 팀은 세계적인 데이터 사이언스 커뮤니티와 함께 우리의 기계학습 알고리즘을 계속 도전하고 있으며, 다음과 같은 이진 분류 문제를 풀기위해 노력하고 있다.\n",
    "\n",
    "* 고객이 만족할 것인가?\n",
    "* 고객이 이 제품을 살 것인가?\n",
    "* 고객이 대출을 지불할 수 있을까?\n",
    "\n",
    "이 문제에서 우리는 캐글러들을 초대하여 거래된 금액과 관계없이 향후 어떤 고객이 특정 거래를 할 지 파악할 수 있도록 하겠다. 이 대회에 제공되는 데이터는 이 문제를 해결하기 위해 사용될 수 있는 실제 데이터와 동일한 구조를 가진다."
   ]
  },
  {
   "cell_type": "markdown",
   "metadata": {},
   "source": [
    "## Evaluation\n",
    "* AUC (Area Under the ROC curve)"
   ]
  },
  {
   "cell_type": "markdown",
   "metadata": {},
   "source": [
    "## Timeline\n",
    "* 2019년 4월 3일\n",
    "* 2019년 4월 10일"
   ]
  },
  {
   "cell_type": "markdown",
   "metadata": {},
   "source": [
    "## Data\n",
    "* 전부 익명화"
   ]
  }
 ],
 "metadata": {
  "kernelspec": {
   "display_name": "Python 3",
   "language": "python",
   "name": "python3"
  },
  "language_info": {
   "codemirror_mode": {
    "name": "ipython",
    "version": 3
   },
   "file_extension": ".py",
   "mimetype": "text/x-python",
   "name": "python",
   "nbconvert_exporter": "python",
   "pygments_lexer": "ipython3",
   "version": "3.6.7"
  },
  "toc": {
   "base_numbering": 1,
   "nav_menu": {},
   "number_sections": true,
   "sideBar": true,
   "skip_h1_title": false,
   "title_cell": "Table of Contents",
   "title_sidebar": "Contents",
   "toc_cell": false,
   "toc_position": {},
   "toc_section_display": true,
   "toc_window_display": false
  }
 },
 "nbformat": 4,
 "nbformat_minor": 2
}
